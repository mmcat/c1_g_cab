{
 "cells": [
  {
   "cell_type": "markdown",
   "metadata": {},
   "source": [
    "### Get the data\n",
    "\n",
    "#### Question 1\n",
    "\n",
    "- Programmatically download and load into your favorite analytical tool the trip data for September 2015.\n",
    "- Report how many rows and columns of data you have loaded."
   ]
  },
  {
   "cell_type": "markdown",
   "metadata": {},
   "source": [
    "#### Fetch data via URL"
   ]
  },
  {
   "cell_type": "code",
   "execution_count": 1,
   "metadata": {},
   "outputs": [],
   "source": [
    "import os\n",
    "from six.moves import urllib\n",
    "\n",
    "TAXI_URL = \"https://s3.amazonaws.com/nyc-tlc/trip+data/green_tripdata_2015-09.csv\"\n",
    "TAXI_DIR = 'datasets/'\n",
    "\n",
    "def fetch_taxi_data(taxi_url=TAXI_URL, taxi_dir=TAXI_DIR):\n",
    "    if not os.path.isdir(taxi_dir):\n",
    "        os.makedirs(taxi_dir)\n",
    "    taxi_path = os.path.join(taxi_dir, \"green_tripdata_2015-09.csv\")\n",
    "    urllib.request.urlretrieve(taxi_url, taxi_path)\n",
    "\n",
    "fetch_taxi_data()\n",
    "\n",
    "# import pandas as pd\n",
    "\n",
    "# url = \"https://s3.amazonaws.com/nyc-tlc/trip+data/green_tripdata_2015-09.csv\"\n",
    "# df=pd.read_csv(url)\n"
   ]
  },
  {
   "cell_type": "markdown",
   "metadata": {},
   "source": [
    "#### Load data"
   ]
  },
  {
   "cell_type": "code",
   "execution_count": 2,
   "metadata": {},
   "outputs": [
    {
     "name": "stdout",
     "output_type": "stream",
     "text": [
      "row 1494926, column: 21\n"
     ]
    }
   ],
   "source": [
    "import pandas as pd\n",
    "import os\n",
    "from six.moves import urllib\n",
    "\n",
    "TAXI_URL = \"https://s3.amazonaws.com/nyc-tlc/trip+data/green_tripdata_2015-09.csv\"\n",
    "TAXI_DIR = 'datasets/'\n",
    "TAXI_PATH = os.path.join(TAXI_DIR, \"green_tripdata_2015-09.csv\")\n",
    "\n",
    "def load_taxi_data(taxi_path=TAXI_PATH):\n",
    "    return pd.read_csv(taxi_path)\n",
    "\n",
    "\n",
    "df = load_taxi_data()\n",
    "row, column = df.shape\n",
    "\n",
    "print(\"row %d, column: %d\" % (row, column))"
   ]
  },
  {
   "cell_type": "markdown",
   "metadata": {},
   "source": [
    "#### Answers to Question 1\n",
    "\n",
    "- use liburl to download data from an URL\n",
    "- number of rows: 1494926, number of columns: 21\n"
   ]
  },
  {
   "cell_type": "markdown",
   "metadata": {},
   "source": [
    "### Explore Variable - Trip Distance\n",
    "#### Question 2\n",
    "\n",
    "- Plot a histogram of the number of the trip distance (\"Trip Distance\").\n",
    "- Report any structure you find and any hypotheses you have about that structure."
   ]
  },
  {
   "cell_type": "markdown",
   "metadata": {},
   "source": [
    "##### Answers to Q2"
   ]
  },
  {
   "cell_type": "code",
   "execution_count": 3,
   "metadata": {
    "scrolled": false
   },
   "outputs": [
    {
     "name": "stdout",
     "output_type": "stream",
     "text": [
      "count    1.494926e+06\n",
      "mean     2.968141e+00\n",
      "std      3.076621e+00\n",
      "min      0.000000e+00\n",
      "25%      1.100000e+00\n",
      "50%      1.980000e+00\n",
      "75%      3.740000e+00\n",
      "max      6.031000e+02\n",
      "Name: Trip_distance, dtype: float64\n"
     ]
    },
    {
     "data": {
      "text/plain": [
       "<Figure size 1600x800 with 2 Axes>"
      ]
     },
     "metadata": {},
     "output_type": "display_data"
    }
   ],
   "source": [
    "import matplotlib.pyplot as plt\n",
    "import numpy as np\n",
    "print(df['Trip_distance'].describe())\n",
    "plt.figure(figsize=(16, 8))\n",
    "plt.subplot(1,2,1)\n",
    "plt.hist(df['Trip_distance'], bins=30, log=True)\n",
    "plt.xlabel('Trip Distance (miles)')\n",
    "plt.title('Histogram of trip distance (with outliers)')\n",
    "plt.subplot(1,2,2)\n",
    "t = df['Trip_distance']\n",
    "trip_distance_rm_outliers = t[~((t-t.median()).abs()>3*t.std())]\n",
    "plt.hist(trip_distance_rm_outliers, bins=30)\n",
    "plt.xlabel('Trip Distance (miles)')\n",
    "plt.title('Histogram of trip distance (without outliers)')\n",
    "\n",
    "plt.show()"
   ]
  },
  {
   "cell_type": "markdown",
   "metadata": {},
   "source": [
    "\n",
    "- Histograms are shown above. The left one including all data points, and the right one excluded outliers, which are located outside of 3 times standard deviation\n",
    "\n",
    "- The distribution is skewed to the right. The possible distribution might be weibull, gamma, chi-squared, or lognormal distributions. Since trip distance should be alway greater than 0, let's assume it fits a lognormal distribution. "
   ]
  },
  {
   "cell_type": "markdown",
   "metadata": {},
   "source": [
    "### Variable Relationships\n",
    "\n",
    "#### Question 3\n",
    "- Report mean and median trip distance grouped by hour of day.\n",
    "- We'd like to get a rough sense of identifying trips that originate or terminate at one of the NYC area airports. Can you provide a count of how many transactions fit this criteria, the average fair, and any other interesting characteristics of these trips."
   ]
  },
  {
   "cell_type": "markdown",
   "metadata": {},
   "source": [
    "#### Answers to Q3\n"
   ]
  },
  {
   "cell_type": "code",
   "execution_count": 4,
   "metadata": {
    "scrolled": false
   },
   "outputs": [],
   "source": [
    "# create a variable refering pickup hour of day\n",
    "import datetime\n",
    "def time_to_hour(string_datetime):\n",
    "    try:\n",
    "        dt = datetime.datetime.strptime(string_datetime, \"%Y-%m-%d %H:%M:%S\")\n",
    "        return dt.hour\n",
    "    except Exception as e:\n",
    "#         print(e)\n",
    "        return -1\n",
    "\n",
    "df['pick_up_hour'] = df.lpep_pickup_datetime.apply(lambda x:time_to_hour(x))\n",
    "\n"
   ]
  },
  {
   "cell_type": "code",
   "execution_count": 5,
   "metadata": {
    "scrolled": true
   },
   "outputs": [
    {
     "data": {
      "image/png": "[encoded data removed]",
      "text/plain": [
       "<Figure size 432x288 with 1 Axes>"
      ]
     },
     "metadata": {},
     "output_type": "display_data"
    }
   ],
   "source": [
    "mean_dist_by_hour = df.groupby(['pick_up_hour'])['Trip_distance'].mean()\n",
    "median_dist_by_hour = df.groupby(['pick_up_hour'])['Trip_distance'].median()\n",
    "\n",
    "df_hour_dist = pd.concat([mean_dist_by_hour.rename('Mean distance of hour'),\n",
    "                          median_dist_by_hour.rename('Median distance of hour')], axis=1)\n",
    "\n",
    "df_hour_dist.index.names = ['Hour of day']\n",
    "\n",
    "df_hour_dist.plot()\n",
    "plt.show()\n",
    "\n"
   ]
  },
  {
   "cell_type": "code",
   "execution_count": 6,
   "metadata": {
    "scrolled": false
   },
   "outputs": [
    {
     "data": {
      "text/html": [
       "<div>\n",
       "<style scoped>\n",
       "    .dataframe tbody tr th:only-of-type {\n",
       "        vertical-align: middle;\n",
       "    }\n",
       "\n",
       "    .dataframe tbody tr th {\n",
       "        vertical-align: top;\n",
       "    }\n",
       "\n",
       "    .dataframe thead th {\n",
       "        text-align: right;\n",
       "    }\n",
       "</style>\n",
       "<table border=\"1\" class=\"dataframe\">\n",
       "  <thead>\n",
       "    <tr style=\"text-align: right;\">\n",
       "      <th></th>\n",
       "      <th>Mean distance of hour</th>\n",
       "      <th>Median distance of hour</th>\n",
       "    </tr>\n",
       "    <tr>\n",
       "      <th>Hour of day</th>\n",
       "      <th></th>\n",
       "      <th></th>\n",
       "    </tr>\n",
       "  </thead>\n",
       "  <tbody>\n",
       "    <tr>\n",
       "      <th>0</th>\n",
       "      <td>3.115276</td>\n",
       "      <td>2.20</td>\n",
       "    </tr>\n",
       "    <tr>\n",
       "      <th>1</th>\n",
       "      <td>3.017347</td>\n",
       "      <td>2.12</td>\n",
       "    </tr>\n",
       "    <tr>\n",
       "      <th>2</th>\n",
       "      <td>3.046176</td>\n",
       "      <td>2.14</td>\n",
       "    </tr>\n",
       "    <tr>\n",
       "      <th>3</th>\n",
       "      <td>3.212945</td>\n",
       "      <td>2.20</td>\n",
       "    </tr>\n",
       "    <tr>\n",
       "      <th>4</th>\n",
       "      <td>3.526555</td>\n",
       "      <td>2.36</td>\n",
       "    </tr>\n",
       "    <tr>\n",
       "      <th>5</th>\n",
       "      <td>4.133474</td>\n",
       "      <td>2.90</td>\n",
       "    </tr>\n",
       "    <tr>\n",
       "      <th>6</th>\n",
       "      <td>4.055149</td>\n",
       "      <td>2.84</td>\n",
       "    </tr>\n",
       "    <tr>\n",
       "      <th>7</th>\n",
       "      <td>3.284394</td>\n",
       "      <td>2.17</td>\n",
       "    </tr>\n",
       "    <tr>\n",
       "      <th>8</th>\n",
       "      <td>3.048450</td>\n",
       "      <td>1.98</td>\n",
       "    </tr>\n",
       "    <tr>\n",
       "      <th>9</th>\n",
       "      <td>2.999105</td>\n",
       "      <td>1.96</td>\n",
       "    </tr>\n",
       "    <tr>\n",
       "      <th>10</th>\n",
       "      <td>2.944482</td>\n",
       "      <td>1.92</td>\n",
       "    </tr>\n",
       "    <tr>\n",
       "      <th>11</th>\n",
       "      <td>2.912015</td>\n",
       "      <td>1.88</td>\n",
       "    </tr>\n",
       "    <tr>\n",
       "      <th>12</th>\n",
       "      <td>2.903065</td>\n",
       "      <td>1.89</td>\n",
       "    </tr>\n",
       "    <tr>\n",
       "      <th>13</th>\n",
       "      <td>2.878294</td>\n",
       "      <td>1.84</td>\n",
       "    </tr>\n",
       "    <tr>\n",
       "      <th>14</th>\n",
       "      <td>2.864304</td>\n",
       "      <td>1.83</td>\n",
       "    </tr>\n",
       "    <tr>\n",
       "      <th>15</th>\n",
       "      <td>2.857040</td>\n",
       "      <td>1.81</td>\n",
       "    </tr>\n",
       "    <tr>\n",
       "      <th>16</th>\n",
       "      <td>2.779852</td>\n",
       "      <td>1.80</td>\n",
       "    </tr>\n",
       "    <tr>\n",
       "      <th>17</th>\n",
       "      <td>2.679114</td>\n",
       "      <td>1.78</td>\n",
       "    </tr>\n",
       "    <tr>\n",
       "      <th>18</th>\n",
       "      <td>2.653222</td>\n",
       "      <td>1.80</td>\n",
       "    </tr>\n",
       "    <tr>\n",
       "      <th>19</th>\n",
       "      <td>2.715597</td>\n",
       "      <td>1.85</td>\n",
       "    </tr>\n",
       "    <tr>\n",
       "      <th>20</th>\n",
       "      <td>2.777052</td>\n",
       "      <td>1.90</td>\n",
       "    </tr>\n",
       "    <tr>\n",
       "      <th>21</th>\n",
       "      <td>2.999189</td>\n",
       "      <td>2.03</td>\n",
       "    </tr>\n",
       "    <tr>\n",
       "      <th>22</th>\n",
       "      <td>3.185394</td>\n",
       "      <td>2.20</td>\n",
       "    </tr>\n",
       "    <tr>\n",
       "      <th>23</th>\n",
       "      <td>3.191538</td>\n",
       "      <td>2.22</td>\n",
       "    </tr>\n",
       "  </tbody>\n",
       "</table>\n",
       "</div>"
      ],
      "text/plain": [
       "             Mean distance of hour  Median distance of hour\n",
       "Hour of day                                                \n",
       "0                         3.115276                     2.20\n",
       "1                         3.017347                     2.12\n",
       "2                         3.046176                     2.14\n",
       "3                         3.212945                     2.20\n",
       "4                         3.526555                     2.36\n",
       "5                         4.133474                     2.90\n",
       "6                         4.055149                     2.84\n",
       "7                         3.284394                     2.17\n",
       "8                         3.048450                     1.98\n",
       "9                         2.999105                     1.96\n",
       "10                        2.944482                     1.92\n",
       "11                        2.912015                     1.88\n",
       "12                        2.903065                     1.89\n",
       "13                        2.878294                     1.84\n",
       "14                        2.864304                     1.83\n",
       "15                        2.857040                     1.81\n",
       "16                        2.779852                     1.80\n",
       "17                        2.679114                     1.78\n",
       "18                        2.653222                     1.80\n",
       "19                        2.715597                     1.85\n",
       "20                        2.777052                     1.90\n",
       "21                        2.999189                     2.03\n",
       "22                        3.185394                     2.20\n",
       "23                        3.191538                     2.22"
      ]
     },
     "execution_count": 6,
     "metadata": {},
     "output_type": "execute_result"
    }
   ],
   "source": [
    "df_hour_dist"
   ]
  },
  {
   "cell_type": "markdown",
   "metadata": {},
   "source": [
    "As you can see from the above figure and table, there are two peaks for the trip distance. One is around 5AM, and another one is around midnight. \n",
    "\n",
    "People who live long from their working place need to get up early and commute to work, which probably caused the first peak period. The second peak period is around midnight. It might because the public tranportation is over for the day, people have to choose taxi to get to their destinations. \n",
    "\n",
    "You may also observe that the mean/median trip distance for the morning one is much greater than the evening one. We may guess that people taking taxi in the morning may use alternative transportation, like bus, train, etc., in the evening, as they are not in a rush to get back home.  \n",
    "\n",
    "*Let's explore those trips that originate or terminate at one of the NYC area airports.*\n",
    "\n",
    "We can use the RateCodeID (=2) to identify JFK airport."
   ]
  },
  {
   "cell_type": "code",
   "execution_count": 7,
   "metadata": {},
   "outputs": [
    {
     "name": "stdout",
     "output_type": "stream",
     "text": [
      "total number of trips that originat or terminate at JFK airport: 4435\n",
      "average fair amount 49.021871476888386\n"
     ]
    }
   ],
   "source": [
    "filtered_idx = np.where(df['RateCodeID']==2)[0] # filter by RateCodeID to get JFK airport trips\n",
    "\n",
    "df_airport = df.iloc[filtered_idx]\n",
    "\n",
    "mean_fair = df_airport['Fare_amount'].mean()\n",
    "\n",
    "print(\"total number of trips that originat or terminate at JFK airport: %d\" % df_airport.shape[0])\n",
    "print(\"average fair amount %s\" % str(mean_fair))"
   ]
  },
  {
   "cell_type": "markdown",
   "metadata": {},
   "source": [
    "So we know that there are 4435 trips that originate or terminate at JFK airpot in September, 2015, and the average fair (exclude tip and toll fee) is $49.02.\n",
    "\n",
    "*We can also try to find characteristics of these trips.*\n",
    "\n",
    "Let's take a look at the trip distance first. "
   ]
  },
  {
   "cell_type": "code",
   "execution_count": 8,
   "metadata": {},
   "outputs": [
    {
     "data": {
      "image/png": "[encoded data removed]",
      "text/plain": [
       "<Figure size 1080x432 with 2 Axes>"
      ]
     },
     "metadata": {},
     "output_type": "display_data"
    }
   ],
   "source": [
    "\n",
    "\n",
    "# count, division = np.histogram(df_airport['Trip_distance'], bins=30)\n",
    "# print(\"Count in each bin:\", count)\n",
    "# print(\"borders for each bin: \", division)\n",
    "\n",
    "import matplotlib.patches as mpatches\n",
    "plt.figure(figsize=(15, 6))\n",
    "\n",
    "plt.subplot(1,2,1)\n",
    "plt.xlabel('Trip Distance Distribution (JFK airport)')\n",
    "plt.title('Trip Distance Distribution (JFK airport)')\n",
    "\n",
    "\n",
    "#plt.legend()\n",
    "\n",
    "JFK_LONGITUDE_APPRO = -73.77\n",
    "JFK_LATITUDE_APPRO = 40.65\n",
    "def dropoff_is_airport(x):\n",
    "    longitude = x.Dropoff_longitude\n",
    "    latitude = x.Dropoff_latitude\n",
    "    return (abs(longitude-JFK_LONGITUDE_APPRO)<0.05) & (abs(latitude-JFK_LATITUDE_APPRO)<0.05) \n",
    "   \n",
    "airport_drop_off = df_airport.apply(dropoff_is_airport, axis=1)\n",
    "df_tmp = pd.concat([df_airport, airport_drop_off.rename('airport_drop_off')], axis=1)\n",
    "plt.hist(df_tmp.Trip_distance[df_tmp.airport_drop_off==True], alpha=0.5, bins=30)\n",
    "plt.hist(df_tmp.Trip_distance[df_tmp.airport_drop_off==False], alpha=0.5, bins=30)\n",
    "\n",
    "plt.legend(('Dropping off at JFK airport', 'Picking up at JFK airport'), loc='best')\n",
    "\n",
    "\n",
    "plt.subplot(1,2,2)\n",
    "plt.xlabel('Trip Distance Distribution')\n",
    "plt.title('Trip Distance Distribution: airport vs. non-airport')\n",
    "\n",
    "\n",
    "t = df[df['RateCodeID']!=2].Trip_distance\n",
    "f1 = t[~((t-t.median()).abs()>3*t.std())]\n",
    "f2 = df_airport.Trip_distance\n",
    "\n",
    "bins = np.histogram(f2,normed=True)[1]\n",
    "h2 = np.histogram(f2,bins=bins,normed=True)\n",
    "h3 = np.histogram(f1,bins=bins,normed=True)\n",
    "\n",
    "w = .3*(bins[1]-bins[0])\n",
    "\n",
    "plt.bar(bins[:-1],h2[0],alpha=1,width=w,color='r')\n",
    "plt.bar(bins[:-1]+w,h3[0],alpha=1,width=w,color='b')\n",
    "plt.legend(('airport trips', 'non-airport trips'), loc='best')\n",
    "\n",
    "\n",
    "\n",
    "\n",
    "plt.show()\n",
    "\n"
   ]
  },
  {
   "cell_type": "markdown",
   "metadata": {},
   "source": [
    "For the airport trips, I am interested to know which trips picking up at the airport and which trips are dropping off at the airport. From google map, it shows the longitude and lantitude of JFK international airport is around -73.77 and 40.65. Let's assume it located at the airport area at the range of plus/minus 0.05 coordinates. So we can identify if the airport is the origination or destination. \n",
    "\n",
    "It is interesting to know from the left figure that mostly the long distance trips are dropping off at the airport, while the short distance trips are picking at the airport. \n",
    "\n",
    "We can also compare the airport trips and non-airport trips as shown in the right figure. The airport trips count for most of the long distance trips."
   ]
  },
  {
   "cell_type": "markdown",
   "metadata": {},
   "source": [
    "\n",
    "\n",
    "#### Prediction Model\n",
    "\n",
    "##### Question 4\n",
    "\n",
    "- Build a derived variable for tip as a percentage of the total fare.\n",
    "- Build a predictive model for tip as a percentage of the total fare. Use as much of the data as you like (or all of it). We will validate a sample.\n",
    "\n"
   ]
  },
  {
   "cell_type": "markdown",
   "metadata": {},
   "source": [
    "##### Answers to Q4\n",
    "\n",
    "Let's build the derived target variable first."
   ]
  },
  {
   "cell_type": "code",
   "execution_count": 9,
   "metadata": {},
   "outputs": [
    {
     "data": {
      "text/plain": [
       "count    1.490754e+06\n",
       "mean     6.653826e+00\n",
       "std      8.875158e+00\n",
       "min      0.000000e+00\n",
       "25%      0.000000e+00\n",
       "50%      0.000000e+00\n",
       "75%      1.666667e+01\n",
       "max      1.000000e+02\n",
       "Name: tip_percentage, dtype: float64"
      ]
     },
     "execution_count": 9,
     "metadata": {},
     "output_type": "execute_result"
    }
   ],
   "source": [
    "df['tip_percentage'] = 100*df.Tip_amount/df.Total_amount\n",
    "\n",
    "df['tip_percentage'].describe()\n"
   ]
  },
  {
   "cell_type": "markdown",
   "metadata": {},
   "source": [
    "Next, we are going to build a predictive model for tip as a percentage of the total fare. There are basically four stages for bulding predictive models: data cleaning, feature engineering, building model, and results/error analysis. Let's go through these one by one.\n",
    "\n",
    "**Data Cleaning**\n",
    "\n",
    "What do we want to clean?"
   ]
  },
  {
   "cell_type": "code",
   "execution_count": 10,
   "metadata": {},
   "outputs": [],
   "source": [
    "# print(df.isnull().any())\n",
    "# print(df.describe())"
   ]
  },
  {
   "cell_type": "markdown",
   "metadata": {},
   "source": [
    "We found there are null values in Ehail_fee, Trip_type, and tip_percentage. The maximum value of RateCodeID is 99, which is odd. And if you look at those money amounts (Fare_amount, Extra, MTA_tax, Tip_amount, Tolls_amount, improvement_surcharge, and Total_amount), you will find there are negative values in them, which is not making sense. Let's check those variables."
   ]
  },
  {
   "cell_type": "code",
   "execution_count": 11,
   "metadata": {},
   "outputs": [
    {
     "name": "stdout",
     "output_type": "stream",
     "text": [
      "       Ehail_fee  tip_percentage\n",
      "False        NaN         1490754\n",
      "True   1494926.0            4172\n",
      "\n",
      "\n",
      "value counts for RateCodeID: \n",
      " 1     1454464\n",
      "5       33943\n",
      "2        4435\n",
      "3        1117\n",
      "4         925\n",
      "6          36\n",
      "99          6\n",
      "Name: RateCodeID, dtype: int64\n",
      "\n",
      "\n",
      "number of negative Total_amount: 2417\n",
      "\n",
      "\n",
      "-0.5    2187\n",
      "Name: MTA_tax, dtype: int64\n",
      "\n",
      "\n",
      "-0.3    2215\n",
      "Name: improvement_surcharge, dtype: int64\n"
     ]
    }
   ],
   "source": [
    "print(df[['Ehail_fee', 'tip_percentage']].isnull().apply(pd.Series.value_counts))\n",
    "print(\"\\n\")\n",
    "print(\"value counts for RateCodeID: \\n\", df.RateCodeID.value_counts())\n",
    "print(\"\\n\")\n",
    "print(\"number of negative Total_amount: %d\" % sum(df['Total_amount']<0))\n",
    "print(\"\\n\")\n",
    "print(df[df.MTA_tax<0].MTA_tax.value_counts())\n",
    "print(\"\\n\")\n",
    "print(df[df.improvement_surcharge<0].improvement_surcharge.value_counts())"
   ]
  },
  {
   "cell_type": "markdown",
   "metadata": {},
   "source": [
    "- Ehail_fee: almost all the value for this variable is NaN -> remove this variable\n",
    "- RateCodeID: replace 99 with 1 (the most frequently one)\n",
    "- Total_amount: remove samples less than 0 (this will result in NaN in the target variable)\n",
    "- Fare_amount, Extra,  Tip_amount, Tolls_amount: replace negative values with 0\n",
    "- MTA_tax, improvement_surcharge: use the absolute value\n",
    "- tip_percentage: this is the target variable -> remove those trips with NaN tip_percentage (due to Total_amount being 0). "
   ]
  },
  {
   "cell_type": "code",
   "execution_count": 12,
   "metadata": {},
   "outputs": [],
   "source": [
    "\n",
    "# let's define a function to clean the data \n",
    "\n",
    "def clean_data(df=df):\n",
    "    data = df.copy()\n",
    "    \n",
    "    print(\"original shape\", data.shape)\n",
    "    \n",
    "    # Ehail_fee\n",
    "    print(\"droping Ehail_fee\")\n",
    "    data.drop(columns='Ehail_fee', inplace=True)\n",
    "    \n",
    "    # RateCodeID\n",
    "    print(\"replacing invalide RateCodeID\")\n",
    "    data.RateCodeID.replace(to_replace=99, value=1, inplace=True)\n",
    "    \n",
    "    \n",
    "    # Total_amount\n",
    "    print(\"removing samples with negative total amount: %d\" % sum(data.Total_amount<0))\n",
    "    data = data[data.Total_amount>=0]\n",
    "    \n",
    "    # Fare_amount, Extra, Tip_amount, Tolls_amount\n",
    "    data[data.Fare_amount<0] = 0\n",
    "    data[data.Extra<0] = 0\n",
    "    data[data.Tip_amount<0] = 0\n",
    "    data[data.Tolls_amount<0] = 0\n",
    "    \n",
    "    # MTA_tax, improvement_surcharge\n",
    "    data.MTA_tax = abs(data.MTA_tax)\n",
    "    data.improvement_surcharge = abs(data.improvement_surcharge)\n",
    "    \n",
    "    # target variable: tip_percentag\n",
    "    print(\"removing samples without target variable: %d\" % sum(data.tip_percentage.isnull()))\n",
    "    data.dropna(axis=0, how='all', subset=['tip_percentage'], inplace=True)\n",
    "    \n",
    "    print(\"final shape\", data.shape)\n",
    "    return data\n",
    "    "
   ]
  },
  {
   "cell_type": "markdown",
   "metadata": {},
   "source": [
    "**Feature Engineering**"
   ]
  },
  {
   "cell_type": "code",
   "execution_count": 13,
   "metadata": {},
   "outputs": [
    {
     "name": "stdout",
     "output_type": "stream",
     "text": [
      "original shape (1494926, 23)\n",
      "droping Ehail_fee\n",
      "replacing invalide RateCodeID\n",
      "removing samples with negative total amount: 2417\n",
      "removing samples without target variable: 4172\n",
      "final shape (1488337, 22)\n"
     ]
    }
   ],
   "source": [
    "# data.info()\n",
    "\n",
    "data = clean_data(df)\n"
   ]
  },
  {
   "cell_type": "markdown",
   "metadata": {},
   "source": [
    "* Time variables\n",
    "  - lpep_pickup_datetime -> pick_up_hour\n",
    "  - Lpep_dropoff_datetime -> drop_off_hour\n",
    "* Geograph variables\n",
    "  - use [uszipcode](https://pypi.python.org/pypi/uszipcode) library to convert longitude and latitude to a representative place id (zipcode)\n",
    "      - Pickup_longitude\n",
    "      - Pickup_latitude          \n",
    "      - Dropoff_longitude        \n",
    "      - Dropoff_latitude\n",
    "\n",
    "* Categorical variables\n",
    "  - Label encoding \n",
    "      - VendorID\n",
    "      - RateCodeID\n",
    "      - Payment_type\n",
    "      - Trip_type\n",
    "      - Store_and_fwd_flag\n",
    "  \n",
    "* Numerical variables (others)\n",
    "  - Standard scaling\n",
    "  \n",
    "  \n",
    "*Note: It took 1.5 hours to get all the zipcode info from the uszipcode db by longitude and latitude for the first time. It is quicker to use the data set that added these new varialbes already in datasets/data_with_new_features.tar.gz. For any new test points, you need to call this function to get new derived features.*\n",
    "\n"
   ]
  },
  {
   "cell_type": "code",
   "execution_count": 14,
   "metadata": {},
   "outputs": [
    {
     "name": "stdout",
     "output_type": "stream",
     "text": [
      "original shape (1494926, 23)\n",
      "droping Ehail_fee\n",
      "replacing invalide RateCodeID\n",
      "removing samples with negative total amount: 2417\n",
      "removing samples without target variable: 4172\n",
      "final shape (1488337, 22)\n",
      "loading...\n",
      "done\n",
      "CPU times: user 3.05 s, sys: 1.42 s, total: 4.47 s\n",
      "Wall time: 4.82 s\n"
     ]
    }
   ],
   "source": [
    "%%time\n",
    "import time\n",
    "\n",
    "import os.path\n",
    "import pickle\n",
    "path = './datasets/data_with_new_features.pkl'\n",
    "import uszipcode\n",
    "\n",
    "data = clean_data(df)\n",
    "\n",
    "search = uszipcode.ZipcodeSearchEngine()\n",
    "def get_geo_info(latitude, longitude):\n",
    "    results = search.by_coordinate(latitude, longitude, radius=10, returns=2)\n",
    "    if len(results) > 0:\n",
    "        return results[0]['Zipcode']\n",
    "\n",
    "\n",
    "# derived features\n",
    "\n",
    "def get_new_features(data=data):\n",
    "    print(\"generating derived features...\")\n",
    "    print(\"add pick_up_hour...\")\n",
    "    data['pick_up_hour'] = data.lpep_pickup_datetime.apply(lambda x:time_to_hour(str(x)))\n",
    "    print(\"add drop_off_hour...\")\n",
    "    data['drop_off_hour'] = data.Lpep_dropoff_datetime.apply(lambda x:time_to_hour(str(x)))\n",
    "    print(\"add drop postal zip...\")\n",
    "    data['drop_postal_zip'] = data.apply(lambda x: get_geo_info(x.Dropoff_latitude, x.Dropoff_longitude), axis=1)\n",
    "    print(\"add pick up postal zip...\")\n",
    "    data['pick_postal_zip'] = data.apply(lambda x: get_geo_info(x.Pickup_latitude, x.Pickup_longitude), axis=1)\n",
    "    \n",
    "    pickle.dump(data, open(path, 'wb'))\n",
    "    print(\"done\")\n",
    "    return data\n",
    "\n",
    "\n",
    "\n",
    "if os.path.isfile(path):\n",
    "    print(\"loading...\")\n",
    "    data = pickle.load(open(path, 'rb'))\n",
    "else:\n",
    "    print(\"creating...\")\n",
    "    data = get_new_features(data)\n",
    "\n",
    "data.reset_index(inplace=True)\n",
    "print(\"done\")\n"
   ]
  },
  {
   "cell_type": "code",
   "execution_count": 39,
   "metadata": {},
   "outputs": [],
   "source": [
    "# encode categorical data\n",
    "from sklearn import preprocessing\n",
    "le = preprocessing.LabelEncoder()\n",
    "data['drop_postal_zip'].fillna('', inplace=True)\n",
    "data['pick_postal_zip'].fillna('', inplace=True)\n",
    "le.fit(data['drop_postal_zip'].append(data['pick_postal_zip']))\n",
    "\n",
    "pd.options.mode.chained_assignment = None\n",
    "\n",
    "def transform(X):\n",
    "    categorical_features = ['VendorID', 'RateCodeID', 'Payment_type', 'Store_and_fwd_flag']\n",
    "    X['Store_and_fwd_flag'].replace(to_replace='Y', value=1, inplace=True)\n",
    "    X['Store_and_fwd_flag'].replace(to_replace='N', value=0, inplace=True)\n",
    "    X['Store_and_fwd_flag'].fillna(0, inplace=True)\n",
    "\n",
    "    X['drop_postal_zip'].fillna('', inplace=True)\n",
    "    X['pick_postal_zip'].fillna('', inplace=True)\n",
    "    X['drop_postal_zip_encode'] = le.transform(X['drop_postal_zip'])\n",
    "    X['pick_postal_zip_encode'] = le.transform(X['pick_postal_zip'])\n",
    "\n",
    "    new_features = ['pick_up_hour', 'drop_off_hour', 'drop_postal_zip_encode', 'pick_postal_zip_encode'] \n",
    "\n",
    "    # Normalize numerical features, exclude tip_amount and total_amount\n",
    "    numerical_features = ['Trip_distance', 'Fare_amount', 'Extra', 'MTA_tax', 'improvement_surcharge', 'Tolls_amount', 'Total_amount']\n",
    "    numerical_features_normed = ['Trip_distance_norm', 'Fare_amount_norm', 'Extra_norm', 'MTA_tax_norm', \n",
    "                                 'improvement_surcharge_norm', 'Tolls_amount_norm', 'Total_amount_norm']\n",
    "\n",
    "    from sklearn.preprocessing import StandardScaler\n",
    "    scalar = StandardScaler()\n",
    "    X_scale = scalar.fit_transform(X[numerical_features])\n",
    "    \n",
    "    data_tmp = pd.concat([X, pd.DataFrame(columns=numerical_features_normed, data=X_scale, index=X.index.values)], axis=1)\n",
    "    \n",
    "   # add all features together\n",
    "    return data_tmp[new_features+categorical_features+numerical_features_normed]\n",
    "#     X_all = data_tmp[new_features+categorical_features+numerical_features_normed]\n",
    "#     y_all = data_tmp.tip_percentage\n",
    "\n",
    "\n",
    "\n"
   ]
  },
  {
   "cell_type": "markdown",
   "metadata": {},
   "source": [
    "**Build prediction model**"
   ]
  },
  {
   "cell_type": "markdown",
   "metadata": {},
   "source": [
    "- In our final training data set, we have 1488339 samples, and 14 features for training. Within these samples, there are 602738 trips with tips, and 885601 without any tips. \n",
    "- We can build a regression model for all trips with tips. \n",
    "- We can also try to build a classificatioin model for w/i tip or w/o tip.\n",
    "- use [scikit-learn](http://scikit-learn.org/stable/) machine learning APIs."
   ]
  },
  {
   "cell_type": "code",
   "execution_count": 40,
   "metadata": {},
   "outputs": [
    {
     "name": "stdout",
     "output_type": "stream",
     "text": [
      "<class 'pandas.core.frame.DataFrame'>\n",
      "RangeIndex: 1488339 entries, 0 to 1488338\n",
      "Data columns (total 28 columns):\n",
      "index                    1488339 non-null int64\n",
      "VendorID                 1488339 non-null int64\n",
      "lpep_pickup_datetime     1488339 non-null object\n",
      "Lpep_dropoff_datetime    1488339 non-null object\n",
      "Store_and_fwd_flag       1488333 non-null object\n",
      "RateCodeID               1488339 non-null int64\n",
      "Pickup_longitude         1488339 non-null float64\n",
      "Pickup_latitude          1488339 non-null float64\n",
      "Dropoff_longitude        1488339 non-null float64\n",
      "Dropoff_latitude         1488339 non-null float64\n",
      "Passenger_count          1488339 non-null int64\n",
      "Trip_distance            1488339 non-null float64\n",
      "Fare_amount              1488339 non-null float64\n",
      "Extra                    1488339 non-null float64\n",
      "MTA_tax                  1488339 non-null float64\n",
      "Tip_amount               1488339 non-null float64\n",
      "Tolls_amount             1488339 non-null float64\n",
      "improvement_surcharge    1488339 non-null float64\n",
      "Total_amount             1488339 non-null float64\n",
      "Payment_type             1488339 non-null int64\n",
      "Trip_type                1488339 non-null float64\n",
      "pick_up_hour             1488339 non-null int64\n",
      "tip_percentage           1488339 non-null float64\n",
      "drop_off_hour            1488339 non-null int64\n",
      "drop_postal_zip          1488339 non-null object\n",
      "pick_postal_zip          1488339 non-null object\n",
      "is_upper_east            1190671 non-null object\n",
      "speed                    1488339 non-null float64\n",
      "dtypes: float64(15), int64(7), object(6)\n",
      "memory usage: 317.9+ MB\n"
     ]
    }
   ],
   "source": [
    "data.info()"
   ]
  },
  {
   "cell_type": "markdown",
   "metadata": {},
   "source": [
    "**Classification Model**\n",
    "\n",
    "Use Random Forests classifier model from [sklearn](http://scikit-learn.org/stable/modules/generated/sklearn.ensemble.RandomForestClassifier.html)"
   ]
  },
  {
   "cell_type": "code",
   "execution_count": 41,
   "metadata": {
    "scrolled": false
   },
   "outputs": [
    {
     "name": "stdout",
     "output_type": "stream",
     "text": [
      "transformed training shape: (1190671, 15)\n",
      "transformed testing shape: (297668, 15)\n",
      "             precision    recall  f1-score   support\n",
      "\n",
      "          0       1.00      0.92      0.96    177222\n",
      "          1       0.89      1.00      0.94    120446\n",
      "\n",
      "avg / total       0.96      0.95      0.95    297668\n",
      "\n",
      "[[163135  14087]\n",
      " [   532 119914]]\n"
     ]
    }
   ],
   "source": [
    "# Random Forests Classification\n",
    "\n",
    "from sklearn.linear_model import LogisticRegressionCV, LogisticRegression\n",
    "from sklearn.model_selection import train_test_split\n",
    "from sklearn.metrics import classification_report\n",
    "from sklearn.ensemble import RandomForestClassifier\n",
    "from sklearn.metrics import confusion_matrix\n",
    "\n",
    "# from sklearn.model_selection import cross_validate\n",
    "from sklearn.metrics.scorer import make_scorer\n",
    "from sklearn.metrics import recall_score\n",
    "\n",
    "X=data.drop(['tip_percentage'], axis=1)\n",
    "y=(data.tip_percentage>0)*1\n",
    "X_train, X_test, y_train, y_test = train_test_split(X, y, test_size=0.2, random_state=42)\n",
    "\n",
    "\n",
    "# clf = LogisticRegression()\n",
    "\n",
    "X_train_tf = transform(X_train)\n",
    "X_test_tf = transform(X_test)\n",
    "\n",
    "print(\"transformed training shape:\", X_train_tf.shape)\n",
    "print(\"transformed testing shape:\", X_test_tf.shape)\n",
    "\n",
    "clf = RandomForestClassifier(n_estimators=20, max_depth=10, random_state=0)\n",
    "\n",
    "clf.fit(X_train_tf, y_train)\n",
    "y_pred = clf.predict(X_test_tf)\n",
    "\n",
    "print(classification_report(y_test, y_pred))\n",
    "print(confusion_matrix(y_test, y_pred))\n",
    "\n",
    "\n",
    "\n",
    "# scores = cross_validate(clf, X_train, y_train, scoring=scoring, cv=2, return_train_score=True)"
   ]
  },
  {
   "cell_type": "code",
   "execution_count": 42,
   "metadata": {},
   "outputs": [
    {
     "name": "stdout",
     "output_type": "stream",
     "text": [
      "             precision    recall  f1-score   support\n",
      "\n",
      "          0       1.00      0.92      0.96    177222\n",
      "          1       0.89      1.00      0.94    120446\n",
      "\n",
      "avg / total       0.96      0.95      0.95    297668\n",
      "\n",
      "[[163135  14087]\n",
      " [   532 119914]]\n"
     ]
    }
   ],
   "source": [
    "# Hyperparameter fine tuning\n",
    "from sklearn.model_selection import GridSearchCV\n",
    "\n",
    "parameters = {'n_estimators':[5,10], 'max_depth':[5, 10, 20]}\n",
    "\n",
    "clf_tune = GridSearchCV(clf, parameters)\n",
    "\n",
    "clf_tune.fit(X_train_tf, y_train)\n",
    "y_pred = clf.predict(X_test_tf)\n",
    "\n",
    "print(classification_report(y_test, y_pred))\n",
    "print(confusion_matrix(y_test, y_pred))"
   ]
  },
  {
   "cell_type": "markdown",
   "metadata": {},
   "source": [
    "#### Results\n",
    "As shown above in the confusion matrix, the RandomForest classifier acheived 0.94 both average precision and recall. \n",
    "\n",
    "Let's see the importance features from RandomForests"
   ]
  },
  {
   "cell_type": "code",
   "execution_count": 45,
   "metadata": {},
   "outputs": [
    {
     "name": "stdout",
     "output_type": "stream",
     "text": [
      "{'pick_up_hour': 0.00110147643368905, 'drop_off_hour': 0.0011180359390785151, 'drop_postal_zip_encode': 0.021771289327696793, 'pick_postal_zip_encode': 0.01200477912665027, 'VendorID': 0.00035752430148189675, 'RateCodeID': 0.0030219188542262984, 'Payment_type': 0.74948930565929, 'Store_and_fwd_flag': 1.2651522087557975e-05, 'Trip_distance_norm': 0.011720023153362503, 'Fare_amount_norm': 0.052950719734752384, 'Extra_norm': 0.0026408651004940697, 'MTA_tax_norm': 0.002250766301648685, 'improvement_surcharge_norm': 0.0022222768389326937, 'Tolls_amount_norm': 0.00036717304103205367, 'Total_amount_norm': 0.13897119466557734}\n"
     ]
    }
   ],
   "source": [
    "\n",
    "print(dict(zip(X_train_tf.columns.values, clf.feature_importances_)))\n"
   ]
  },
  {
   "cell_type": "markdown",
   "metadata": {},
   "source": [
    "The most important feature is 'Payment_type', 'Total_amount', and followed by the derived geographical info, 'drop_postal_zip_encode' and 'pick_postal_zip_encode'. \n",
    "\n",
    "'Total_amount' is expected. Let's see how the Payment_type and geographical info affect the results"
   ]
  },
  {
   "cell_type": "code",
   "execution_count": 46,
   "metadata": {},
   "outputs": [
    {
     "data": {
      "image/png": "[encoded data removed]",
      "text/plain": [
       "<Figure size 432x288 with 1 Axes>"
      ]
     },
     "metadata": {},
     "output_type": "display_data"
    }
   ],
   "source": [
    "plt.figure()\n",
    "X_train.Payment_type.groupby(by=y_train).hist(log=True)\n",
    "plt.xlabel('Payment types')\n",
    "plt.legend(('Without tips', 'With Tips'), loc='best')\n",
    "plt.show()\n"
   ]
  },
  {
   "cell_type": "markdown",
   "metadata": {},
   "source": [
    "Most of the tips are paid by credit card. We could guess that the tip may calculated automatically when you charged by a credit card. \n",
    "\n",
    "Next, let's see how different areas in Manhatton affect the amount of tips. We have retried all the zip codes associated with the Longitude and latitude in the data sets. Let's compare the upper east side and lower east side. "
   ]
  },
  {
   "cell_type": "code",
   "execution_count": 47,
   "metadata": {},
   "outputs": [
    {
     "data": {
      "text/plain": [
       "<Figure size 432x288 with 0 Axes>"
      ]
     },
     "metadata": {},
     "output_type": "display_data"
    },
    {
     "data": {
      "image/png": "[encoded data removed]",
      "text/plain": [
       "<Figure size 432x288 with 1 Axes>"
      ]
     },
     "metadata": {},
     "output_type": "display_data"
    }
   ],
   "source": [
    "upper_east_zipcode = ['10021', '10028', '10044', '10065', '10075', '10128']\n",
    "\n",
    "marks1 = X_train.drop_postal_zip.apply(lambda x: str(x) in upper_east_zipcode)\n",
    "marks2 = X_train.pick_postal_zip.apply(lambda x: str(x) in upper_east_zipcode)\n",
    "\n",
    "data['is_upper_east'] = marks1 | marks2\n",
    "\n",
    "plt.figure()\n",
    "boxprops = dict(linestyle='-', color='k')\n",
    "medianprops = dict(linestyle='-', color='k')\n",
    "bp = data.iloc[y_train.index.values].loc[data.tip_percentage<40].boxplot(column=['tip_percentage'], \n",
    "                                                                         by='is_upper_east', \n",
    "                                                                         grid=False,\n",
    "                                                                         boxprops=boxprops, medianprops=medianprops,\n",
    "                                                                         return_type='dict'\n",
    "                                                                        )\n",
    "\n",
    "\n",
    "[[item.set_color('r') for item in bp[key]['boxes']] for key in bp.keys()]\n",
    "\n",
    "plt.title('')\n",
    "plt.ylabel('Tip Percentage')\n",
    "\n",
    "\n",
    "plt.show()\n",
    "\n"
   ]
  },
  {
   "cell_type": "markdown",
   "metadata": {},
   "source": [
    "So the trips picked up or dropped off at Manhatton upper east side is trending to give more Tips, which aligns to our expectation. \n",
    "\n",
    "\n",
    "**Linear Regression Model**\n",
    "\n",
    "Use linear regression model from [sklearn](http://scikit-learn.org/stable/modules/generated/sklearn.linear_model.LinearRegression.html)."
   ]
  },
  {
   "cell_type": "code",
   "execution_count": 51,
   "metadata": {},
   "outputs": [
    {
     "name": "stdout",
     "output_type": "stream",
     "text": [
      "Mean squared error: 14.06\n",
      "Variance score: 0.58\n"
     ]
    },
    {
     "data": {
      "image/png": "[encoded data removed]",
      "text/plain": [
       "<Figure size 432x288 with 1 Axes>"
      ]
     },
     "metadata": {},
     "output_type": "display_data"
    }
   ],
   "source": [
    "# Linear Regression for tip_percentage\n",
    "from sklearn.linear_model import LinearRegression, Ridge, Lasso\n",
    "from sklearn.metrics import mean_squared_error, r2_score\n",
    "from sklearn.model_selection import cross_val_predict\n",
    "\n",
    "import warnings\n",
    "warnings.filterwarnings(action=\"ignore\", module=\"scipy\", message=\"^internal gelsd\")\n",
    "\n",
    "idx = np.where(data.tip_percentage>0)[0]\n",
    "X=data.iloc[idx,].drop(['tip_percentage'], axis=1)\n",
    "y=data.iloc[idx,].tip_percentage\n",
    "X_train, X_test, y_train, y_test = train_test_split(X, y, test_size=0.2, random_state=42)\n",
    "\n",
    "\n",
    "# clf = LogisticRegression()\n",
    "\n",
    "X_train_tf = transform(X_train)\n",
    "X_test_tf = transform(X_test)\n",
    "# Create linear regression object\n",
    "regr = LinearRegression()\n",
    "# regr = Ridge (alpha = .5)\n",
    "# regr = Lasso(alpha = 0)\n",
    "\n",
    "# Train the model using the training sets\n",
    "regr.fit(X_train_tf, y_train)\n",
    "\n",
    "# Make cross validation predictions using the testing set\n",
    "y_pred = cross_val_predict(regr, X_test_tf, y_test, cv=10)\n",
    "\n",
    "# y_pred = regr.predict(X_test_tf)\n",
    "\n",
    "# The mean squared error\n",
    "print(\"Mean squared error: %.2f\"\n",
    "      % mean_squared_error(y_test, y_pred))\n",
    "# Explained variance score: 1 is perfect prediction\n",
    "print('Variance score: %.2f' % r2_score(y_test, y_pred))\n",
    "\n",
    "fig, ax = plt.subplots()\n",
    "ax.scatter(y_test, y_pred, edgecolors=(0, 0, 0))\n",
    "ax.plot([y_test.min(), y_test.max()], [y_test.min(), y_test.max()], 'k--', lw=4)\n",
    "ax.set_xlabel('Measured')\n",
    "ax.set_ylabel('Predicted')\n",
    "plt.show()"
   ]
  },
  {
   "cell_type": "markdown",
   "metadata": {},
   "source": [
    "#### Results\n",
    "\n",
    "The output shows the cross validation prediction for the testing samples. Mostly, the predicted percentage aligns with the testing percentage as shown in the above plot. Ridge and Lasso regression models were also used. They achieve basically similar performance as linear regression."
   ]
  },
  {
   "cell_type": "markdown",
   "metadata": {},
   "source": [
    "## Search\n",
    "\n",
    "### Question 5 (Option C)\n",
    "\n",
    "- We’re thinking about promoting ride sharing. Build a function that given point a point P, find the k trip origination points nearest P.\n",
    "- For this question, point P would be a taxi ride starting location picked by us at a given LAT-LONG.\n",
    "- As an extra layer of complexity, consider the time for pickups, so this could eventually be used for real time ride sharing matching.\n",
    "- Please explain not only how this can be computed, but how efficient your approach is (time and space complexity)\n",
    "\n",
    "\n",
    "### Answers to Q5\n",
    "\n",
    "The searching approach is as followd,\n",
    "\n",
    "- calculate all the distances from P to all other pionts (O(N)).\n",
    "- sort the distances in ascending order (O(NlogN))\n",
    "- get the top k trips\n",
    " "
   ]
  },
  {
   "cell_type": "code",
   "execution_count": 23,
   "metadata": {},
   "outputs": [
    {
     "data": {
      "text/plain": [
       "count    1.488339e+06\n",
       "mean     1.590009e+01\n",
       "std      2.156466e+02\n",
       "min      4.170866e-04\n",
       "25%      9.460751e+00\n",
       "50%      1.177112e+01\n",
       "75%      1.506522e+01\n",
       "max      2.026800e+05\n",
       "Name: speed, dtype: float64"
      ]
     },
     "execution_count": 23,
     "metadata": {},
     "output_type": "execute_result"
    }
   ],
   "source": [
    "# let's derive a speed variable\n",
    "\n",
    "def get_speed(x):\n",
    "    try:\n",
    "        dt1 = datetime.datetime.strptime(x.Lpep_dropoff_datetime, \"%Y-%m-%d %H:%M:%S\")\n",
    "        dt2 = datetime.datetime.strptime(x.lpep_pickup_datetime, \"%Y-%m-%d %H:%M:%S\")\n",
    "        delta_hour = (dt1-dt2).total_seconds()/3600.0\n",
    "        return x.Trip_distance/delta_hour\n",
    "    except Exception as e:\n",
    "        return 0\n",
    "\n",
    "data['speed'] = data.apply(get_speed, axis=1)\n",
    "median_mph = data.speed.median()\n",
    "data.speed.replace(0, median_mph, inplace=True)\n",
    "data.speed.describe()"
   ]
  },
  {
   "cell_type": "code",
   "execution_count": 24,
   "metadata": {},
   "outputs": [
    {
     "data": {
      "text/plain": [
       "[(1201, 8667.021599992891),\n",
       " (2035, 8667.021599992891),\n",
       " (3041, 8667.021599992891)]"
      ]
     },
     "execution_count": 24,
     "metadata": {},
     "output_type": "execute_result"
    }
   ],
   "source": [
    "K = 3\n",
    "from math import radians, acos, sin, cos\n",
    "import datetime\n",
    "from datetime import timedelta\n",
    "\n",
    "\n",
    "def get_distance(p1, p2):\n",
    "    R = 6373.0\n",
    "    lat1, lon1 = radians(p1[0]), radians(p1[1])\n",
    "    lat2, lon2 = radians(p2[0]), radians(p2[1])\n",
    "    \n",
    "    dist = R * acos(sin(lat1)*sin(lat2) + cos(lat1)*cos(lat2)*cos(lon1 - lon2))\n",
    "    return dist\n",
    "\n",
    "def get_nearest_trips(longitude, latitude):\n",
    "    dists = []\n",
    "    p_orig = (longitude, latitude)\n",
    "    for index, row in data.iterrows():\n",
    "        lon = row.Pickup_longitude\n",
    "        lan = row.Pickup_latitude\n",
    "        # consider time for pickups: calculate the time needed to get to the pickup location. Ignore it if cannot \n",
    "        # get to the location in time\n",
    "        current = datetime.datetime.now()\n",
    "        try:\n",
    "            dt = datetime.datetime.strptime(row.lpep_pickup_datetime, \"%Y-%m-%d %H:%M:%S\")\n",
    "\n",
    "            delta = current - dt\n",
    "            p = (lon, lan)        \n",
    "            dist = get_distance(p_orig, p)\n",
    "            speed = row.speed if row.speed<100 else median_mph # due to pickup/dropoff time inaccurate\n",
    "\n",
    "            if dist*3600.0/speed < delta.total_seconds():\n",
    "                dists.append((index, dist))\n",
    "                \n",
    "        except Exception as e:\n",
    "#             print(\"no pickup time: %s\" % str(e))\n",
    "            continue\n",
    "    return sorted(dists, key=lambda x: x[1])[:K]\n",
    "\n",
    "\n",
    "get_nearest_trips(40.684956, -73.979485)\n",
    "        \n",
    "    \n",
    "    "
   ]
  },
  {
   "cell_type": "markdown",
   "metadata": {},
   "source": [
    "**Consider time to pickup**\n",
    "\n",
    "In order to implement ride sharing, we need to consider the time to pickup. You should pick up the passengers that are close to you, and you can get to the pickup location in time. So we need to derive a new variable, speed, by the 'Trip_distance' and time spent (Lpep_dropoff_datetime - lpep_pickup_datetime), then calculate the time needed to get to the pickup location. \n",
    "\n",
    "\n",
    "**Search Optimization**\n",
    "\n",
    "The time complexity of the above solution is O(NlogN), where is N is the sample size. The space complexity is O(N).\n",
    "\n",
    "We can use quickselect algorithm to optimize approximately to O(N). \n",
    "\n",
    "\n"
   ]
  },
  {
   "cell_type": "code",
   "execution_count": null,
   "metadata": {},
   "outputs": [],
   "source": []
  },
  {
   "cell_type": "code",
   "execution_count": null,
   "metadata": {},
   "outputs": [],
   "source": []
  }
 ],
 "metadata": {
  "kernelspec": {
   "display_name": "Python 3",
   "language": "python",
   "name": "python3"
  },
  "language_info": {
   "codemirror_mode": {
    "name": "ipython",
    "version": 3
   },
   "file_extension": ".py",
   "mimetype": "text/x-python",
   "name": "python",
   "nbconvert_exporter": "python",
   "pygments_lexer": "ipython3",
   "version": "3.6.4"
  }
 },
 "nbformat": 4,
 "nbformat_minor": 2
}
